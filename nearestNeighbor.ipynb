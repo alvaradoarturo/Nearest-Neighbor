{
  "nbformat": 4,
  "nbformat_minor": 0,
  "metadata": {
    "colab": {
      "name": "nearestNeighbor.ipynb",
      "provenance": [],
      "collapsed_sections": [],
      "mount_file_id": "1Z00glsA4bkfrTnntIibO3zwB5TCOzOJo",
      "authorship_tag": "ABX9TyPuZrfg5lZL72kVDxw8al1Y"
    },
    "kernelspec": {
      "name": "python3",
      "display_name": "Python 3"
    }
  },
  "cells": [
    {
      "cell_type": "code",
      "metadata": {
        "colab": {
          "base_uri": "https://localhost:8080/"
        },
        "id": "sTS8yjfbOMXJ",
        "outputId": "ea72a5cb-4ca0-42c3-ddfb-e0f26c48f1f5"
      },
      "source": [
        "import pandas as pd\r\n",
        "\r\n",
        "#Using pandas to abstract data from file\r\n",
        "df = pd.read_csv('CS170_small_special_testdata__95.txt', header=None, delimiter='\\s+',)\r\n",
        "valuesToExtract = df.values.tolist()\r\n",
        "\r\n",
        "import random\r\n",
        "print(\"Type the number of the algorithm you want to run.\\n\")\r\n",
        "\r\n",
        "userChoice = input(\"1) Forward Selection \\n2) Backward Elimination\\n\")\r\n",
        "\r\n",
        "print(userChoice)\r\n",
        "\r\n",
        "# Divorce the search and cross-validation\r\n",
        "\r\n",
        "#def leave_one_out_cross_validation(data, current_set, feature_to_add)\r\n",
        "def leave_one_out_cross_validation() : \r\n",
        "    return random.randint(1, 10)\r\n",
        "\r\n",
        "accuracy = leave_one_out_cross_validation()\r\n",
        "print(accuracy)"
      ],
      "execution_count": 64,
      "outputs": [
        {
          "output_type": "stream",
          "text": [
            "Type the number of the algorithm you want to run.\n",
            "\n",
            "1) Forward Selection \n",
            "2) Backward Elimination\n",
            "1\n",
            "1\n",
            "9\n"
          ],
          "name": "stdout"
        }
      ]
    },
    {
      "cell_type": "code",
      "metadata": {
        "id": "nyS2fxiOdsSJ"
      },
      "source": [
        "len(valuesToExtract)\r\n",
        "valuesToExtract"
      ],
      "execution_count": null,
      "outputs": []
    },
    {
      "cell_type": "code",
      "metadata": {
        "id": "02E3g3OcRMjb"
      },
      "source": [
        "def feature_search_demo() :\r\n",
        "  for i in range(1, len(valuesToExtract) + 1):\r\n",
        "    print(f\"On the {i}th level of the search tree\")\r\n",
        "    for k in range(1, len(valuesToExtract[0])):\r\n",
        "      print(f\"--Considering adding the '{k}' feature\")\r\n",
        "feature_search_demo()"
      ],
      "execution_count": null,
      "outputs": []
    }
  ]
}